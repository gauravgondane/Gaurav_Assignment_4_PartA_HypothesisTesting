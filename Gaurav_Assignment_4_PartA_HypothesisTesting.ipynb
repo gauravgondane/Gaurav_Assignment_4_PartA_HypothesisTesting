{
 "cells": [
  {
   "cell_type": "code",
   "execution_count": null,
   "id": "ac66c2ce",
   "metadata": {},
   "outputs": [],
   "source": [
    "# Background:\n",
    "# Bombay hospitality Ltd. operates a franchise model for producing exotic Norwegian dinners throughout New England. \n",
    "# The operating cost for a franchise in a week (W) is given by the equation W = $1,000 + $5X, \n",
    "# where X represents the number of units produced in a week. \n",
    "# Recent feedback from restaurant owners suggests that this cost model may no longer be accurate, \n",
    "# as their observed weekly operating costs are higher.\n",
    "\n",
    "# Objective:\n",
    "# To investigate the restaurant owners' claim about \n",
    "# the increase in weekly operating costs using hypothesis testing.\n"
   ]
  },
  {
   "cell_type": "code",
   "execution_count": null,
   "id": "1d7e00f8",
   "metadata": {},
   "outputs": [],
   "source": [
    "# Steps to check Hypothesis testing\n",
    "# 1. State your null and alternate hypothesis\n",
    "# 2. Collect the data\n",
    "# 3. Perform Statistical Test (T test, P test)\n",
    "# 4. Set the significance level(uncertainty level)\n",
    "# 5. Accept or reject null hypothesis (Present your findings)"
   ]
  },
  {
   "cell_type": "code",
   "execution_count": 2,
   "id": "cc32437c",
   "metadata": {},
   "outputs": [],
   "source": [
    "# Null hypothesis H0: μ = 1,000 + 5(600) = 3000\n",
    "# Alternative hypothesis H1: μ > 3000\n",
    "μ = 3000"
   ]
  },
  {
   "cell_type": "code",
   "execution_count": 6,
   "id": "fd68e2cc",
   "metadata": {},
   "outputs": [
    {
     "name": "stdout",
     "output_type": "stream",
     "text": [
      "25.0\n"
     ]
    }
   ],
   "source": [
    "import numpy as np\n",
    "import scipy.stats as stats\n",
    "import math\n",
    "\n",
    "# Sample mean\n",
    "x = 3050\n",
    "\n",
    "# Sample size\n",
    "n = 25\n",
    "# Standard deviation\n",
    "σ = 125\n",
    "\n",
    "# Standard error\n",
    "# Standard error = σ / sqrt(n)\n",
    "std_error = σ / math.sqrt(n)\n",
    "print(std_error)"
   ]
  },
  {
   "cell_type": "code",
   "execution_count": 7,
   "id": "e388dc7e",
   "metadata": {},
   "outputs": [
    {
     "name": "stdout",
     "output_type": "stream",
     "text": [
      "2.0\n"
     ]
    }
   ],
   "source": [
    "# Test statistic\n",
    "# Test statistic = (sample mean - μ) / standard error\n",
    "\n",
    "test_statistic = (x - μ) / std_error\n",
    "print(test_statistic)"
   ]
  },
  {
   "cell_type": "code",
   "execution_count": 8,
   "id": "67242dd3",
   "metadata": {},
   "outputs": [
    {
     "name": "stdout",
     "output_type": "stream",
     "text": [
      "0.056939849936591666\n"
     ]
    }
   ],
   "source": [
    "# Calculate p-value\n",
    "\n",
    "p_value = stats.t.sf(np.abs(test_statistic), n-1)*2\n",
    "print(p_value)"
   ]
  },
  {
   "cell_type": "code",
   "execution_count": 13,
   "id": "7e967388",
   "metadata": {},
   "outputs": [
    {
     "name": "stdout",
     "output_type": "stream",
     "text": [
      "Z score : 98.0\n",
      "Z critical score : 1.6448536269514722\n",
      "Reject null hypothesis\n",
      "P value : 0.0\n"
     ]
    }
   ],
   "source": [
    "# Determining Z critical value\n",
    "\n",
    "alpha = 0.05\n",
    "population_mean = 600\n",
    "\n",
    "# Compute z score\n",
    "z_score = (x - population_mean)/(σ/np.sqrt(n))\n",
    "print(\"Z score :\", z_score)\n",
    "\n",
    "# Approach 1 : Using critical score lets find the z critical value\n",
    "z_critical = stats.norm.ppf(1-alpha)\n",
    "print(\"Z critical score :\", z_critical)\n",
    "\n",
    "if z_score > z_critical:\n",
    "    print(\"Reject null hypothesis\")\n",
    "else:\n",
    "    print(\"Fail to reject null hypothesis\")\n",
    "    \n",
    "p_value = 1 - stats.norm.cdf(z_score)\n",
    "print(\"P value :\" , p_value)"
   ]
  }
 ],
 "metadata": {
  "kernelspec": {
   "display_name": "Python 3 (ipykernel)",
   "language": "python",
   "name": "python3"
  },
  "language_info": {
   "codemirror_mode": {
    "name": "ipython",
    "version": 3
   },
   "file_extension": ".py",
   "mimetype": "text/x-python",
   "name": "python",
   "nbconvert_exporter": "python",
   "pygments_lexer": "ipython3",
   "version": "3.11.5"
  }
 },
 "nbformat": 4,
 "nbformat_minor": 5
}
